{
 "cells": [
  {
   "cell_type": "markdown",
   "id": "8a61a46d",
   "metadata": {},
   "source": [
    "### Import Libraries: "
   ]
  },
  {
   "cell_type": "code",
   "execution_count": 1,
   "id": "26f3b30a",
   "metadata": {},
   "outputs": [],
   "source": [
    "import requests\n",
    "from bs4 import BeautifulSoup \n",
    "import pandas as pd"
   ]
  },
  {
   "cell_type": "markdown",
   "id": "e6d6ee9f",
   "metadata": {},
   "source": [
    "### Url & Proxy Setup"
   ]
  },
  {
   "cell_type": "code",
   "execution_count": 2,
   "id": "bad6900b",
   "metadata": {},
   "outputs": [],
   "source": [
    "page_no = 1\n",
    "page_url = f'https://www.ebay.com/sch/i.html?_nkw=laptop&_sacat=0&_from=R40&_pgn={page_no}'"
   ]
  },
  {
   "cell_type": "markdown",
   "id": "00872f4b",
   "metadata": {},
   "source": [
    "### Request & Response Checking"
   ]
  },
  {
   "cell_type": "code",
   "execution_count": null,
   "id": "583766dd",
   "metadata": {},
   "outputs": [
    {
     "name": "stdout",
     "output_type": "stream",
     "text": [
      "200\n"
     ]
    }
   ],
   "source": [
    "# Send a GET request using the proxy\n",
    "\n",
    "url = 'https://www.ebay.com/sch/i.html?_nkw=laptop&_sacat=0&_from=R40&_pgn=1'\n",
    "\n",
    "\n",
    "# Proxy configuration with login and password\n",
    "proxy_host = 'gw.dataimpulse.com'\n",
    "proxy_port = ****\n",
    "proxy_login = '*************'\n",
    "proxy_password = '******************'\n",
    "proxy = f'http://{proxy_login}:{proxy_password}@{proxy_host}:{proxy_port}'\n",
    "\n",
    "proxies = {\n",
    "    'http': proxy,\n",
    "    'https': proxy\n",
    "}\n",
    "\n",
    "response = requests.get(page_url,proxies=proxies)\n",
    "\n",
    "# Check if the request was successful\n",
    "if response.status_code == 200:\n",
    "   # Process the response content\n",
    "    print(response.status_code)\n",
    "else:\n",
    "    print('Request failed with status code:', response.status_code)"
   ]
  },
  {
   "cell_type": "markdown",
   "id": "b5efa093",
   "metadata": {},
   "source": [
    "### Testing for a Single Laptop"
   ]
  },
  {
   "cell_type": "markdown",
   "id": "6bffc67b",
   "metadata": {},
   "source": [
    "**All Info Extraction**"
   ]
  },
  {
   "cell_type": "code",
   "execution_count": 83,
   "id": "4eeb9b87",
   "metadata": {},
   "outputs": [],
   "source": [
    "content = response.text\n",
    "\n",
    "soup = BeautifulSoup(content,'html.parser')\n",
    "\n",
    "laptop_box = soup.find_all('li', class_='s-item__pl-on-bottom')"
   ]
  },
  {
   "cell_type": "markdown",
   "id": "309228d6",
   "metadata": {},
   "source": [
    "**No of Laptops in a Single Page**"
   ]
  },
  {
   "cell_type": "code",
   "execution_count": null,
   "id": "81c6ba6c",
   "metadata": {},
   "outputs": [],
   "source": [
    "len(laptop_box)"
   ]
  },
  {
   "cell_type": "markdown",
   "id": "c7f99161",
   "metadata": {},
   "source": [
    "**Model Name Extraction** "
   ]
  },
  {
   "cell_type": "code",
   "execution_count": null,
   "id": "c503f45a",
   "metadata": {},
   "outputs": [],
   "source": [
    "model_name = laptop_box[2].find('div', class_='s-item__title')\n",
    "\n",
    "model_name.text"
   ]
  },
  {
   "cell_type": "markdown",
   "id": "0fc48b19",
   "metadata": {},
   "source": [
    "**Price Extraction**"
   ]
  },
  {
   "cell_type": "code",
   "execution_count": null,
   "id": "bb93c553",
   "metadata": {},
   "outputs": [],
   "source": [
    "price = laptop_box[2].find('span', class_='s-item__price')\n",
    "\n",
    "price.text"
   ]
  },
  {
   "cell_type": "markdown",
   "id": "72811cd0",
   "metadata": {},
   "source": [
    "**Location Extraction**"
   ]
  },
  {
   "cell_type": "code",
   "execution_count": null,
   "id": "9547ba92",
   "metadata": {},
   "outputs": [],
   "source": [
    "location = laptop_box[2].find('span', class_='s-item__location')\n",
    "\n",
    "location.text"
   ]
  },
  {
   "cell_type": "markdown",
   "id": "2ef4008e",
   "metadata": {},
   "source": [
    "**Product Link Extraction**"
   ]
  },
  {
   "cell_type": "code",
   "execution_count": 65,
   "id": "e26c22b9",
   "metadata": {},
   "outputs": [
    {
     "data": {
      "text/plain": [
       "'https://www.ebay.com/itm/116436271469?_skw=laptop&hash=item1b1c24816d:g:4OIAAOSwUwBneDS-&itmprp=enc%3AAQAKAAAAwFkggFvd1GGDu0w3yXCmi1cr7GsRBmctu%2FAz5Udl8OKDowJbvnrELzpOKBJ4%2FSsHwZKdVllsKVKjsug313Ht2Uh6HHal0EymijATsTL7EZsyT4lT5oj3iNs7bzZ5A6GDhZn2u7Z4UyKUyvvc52BRCfUJ3iS4Tp16yaKJ6Qit1D1xl4lQRv36Wm%2BDTaAjtTlgCgwilYr9xpx5QTEXTGIF4zOEo5zJWRSbu51IHC%2Ba0LNwMKuH040XMxd4Ced8Za7qgg%3D%3D%7Ctkp%3ABk9SR6TAlKmJZg'"
      ]
     },
     "execution_count": 65,
     "metadata": {},
     "output_type": "execute_result"
    }
   ],
   "source": [
    "product_href = laptop_box[9].a['href']\n",
    "\n",
    "product_href"
   ]
  },
  {
   "cell_type": "markdown",
   "id": "f37939b4",
   "metadata": {},
   "source": [
    "### Scraping Script"
   ]
  },
  {
   "cell_type": "code",
   "execution_count": null,
   "id": "4b17f3f4",
   "metadata": {},
   "outputs": [],
   "source": [
    "import requests\n",
    "from bs4 import BeautifulSoup\n",
    "import pandas as pd\n",
    "import time\n",
    "import random\n",
    "\n",
    "# Dictionary for data saving\n",
    "laptops = {\n",
    "    'Model Name': [],\n",
    "    'Price': [],\n",
    "    'Location': [],\n",
    "    'Product Link': [],\n",
    "    'Page': []\n",
    "}\n",
    "\n",
    "# Proxy configuration with login and password\n",
    "proxy_host = 'gw.dataimpulse.com'\n",
    "proxy_port = ***\n",
    "proxy_login = '*****************'\n",
    "proxy_password = '*********************'\n",
    "proxy = f'http://{proxy_login}:{proxy_password}@{proxy_host}:{proxy_port}'\n",
    "\n",
    "proxies = {\n",
    "    'http': proxy,\n",
    "    'https': proxy\n",
    "}\n",
    "\n",
    "page_no = 1\n",
    "\n",
    "# Scraping Start\n",
    "while True:\n",
    "    print(\"\\n-----------\")\n",
    "    print(f\"Scraping Page: {page_no}\")\n",
    "    print(\"-----------\")\n",
    "    \n",
    "    # Dynamic URL with Pagination\n",
    "    page_url = f'https://www.ebay.com/sch/i.html?_nkw=laptop&_sacat=0&_from=R40&_pgn={page_no}'\n",
    "    response = requests.get(page_url,proxies=proxies)  \n",
    "    content = response.text\n",
    "    soup = BeautifulSoup(content, 'html.parser')\n",
    "\n",
    "    laptop_box = soup.find_all('li', class_='s-item')\n",
    "\n",
    "    if not laptop_box:\n",
    "        print(\"No more items found. Scraping completed.\")\n",
    "        break\n",
    "\n",
    "    for item in laptop_box:\n",
    "        try:\n",
    "            model_name = item.find('div', class_='s-item__title').text\n",
    "            price = item.find('span', class_='s-item__price').text\n",
    "            location = item.find('span', class_='s-item__location').text \n",
    "            product_href = item.a['href']\n",
    "\n",
    "            laptops['Model Name'].append(model_name)\n",
    "            laptops['Price'].append(price)\n",
    "            laptops['Location'].append(location)\n",
    "            laptops['Page'].append(page_no)\n",
    "            laptops['Product Link'].append(product_href)\n",
    "        except Exception as e:\n",
    "            print(f\"Skipped one item due to error: {e}\")\n",
    "            continue\n",
    "\n",
    "    print(f\"Page {page_no} scraped successfully.\")\n",
    "\n",
    "    # Wait 2–5 seconds before next request\n",
    "    sleep_duration = round(random.uniform(2, 5), 2)\n",
    "    print(f\"Sleeping for {sleep_duration} seconds...\\n\")\n",
    "    time.sleep(sleep_duration)\n",
    "\n",
    "    page_no += 1\n",
    "\n",
    "# Export to Excel using Pandas\n",
    "df = pd.DataFrame(laptops)\n",
    "df.to_excel('new_laptop.xlsx')\n",
    "print(\"All data saved to 'new_laptop.xlsx'.\")"
   ]
  }
 ],
 "metadata": {
  "kernelspec": {
   "display_name": "bsoup",
   "language": "python",
   "name": "python3"
  },
  "language_info": {
   "codemirror_mode": {
    "name": "ipython",
    "version": 3
   },
   "file_extension": ".py",
   "mimetype": "text/x-python",
   "name": "python",
   "nbconvert_exporter": "python",
   "pygments_lexer": "ipython3",
   "version": "3.13.1"
  }
 },
 "nbformat": 4,
 "nbformat_minor": 5
}
